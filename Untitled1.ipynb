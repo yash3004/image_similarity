{
 "cells": [
  {
   "cell_type": "code",
   "execution_count": 1,
   "id": "eddb963a-bcf9-4beb-b149-419dbc1356aa",
   "metadata": {},
   "outputs": [
    {
     "name": "stdout",
     "output_type": "stream",
     "text": [
      "Requirement already satisfied: qdrant-client in /home/yash.sehgal/miniconda3/lib/python3.12/site-packages (from -r requirements.txt (line 1)) (1.10.1)\n",
      "Requirement already satisfied: transformers in /home/yash.sehgal/miniconda3/lib/python3.12/site-packages (from -r requirements.txt (line 2)) (4.43.2)\n",
      "Requirement already satisfied: datasets in /home/yash.sehgal/miniconda3/lib/python3.12/site-packages (from -r requirements.txt (line 3)) (2.20.0)\n",
      "Requirement already satisfied: torch in /home/yash.sehgal/miniconda3/lib/python3.12/site-packages (from -r requirements.txt (line 4)) (2.4.0)\n",
      "Requirement already satisfied: numpy in /home/yash.sehgal/miniconda3/lib/python3.12/site-packages (from -r requirements.txt (line 5)) (1.26.4)\n",
      "Requirement already satisfied: grpcio>=1.41.0 in /home/yash.sehgal/miniconda3/lib/python3.12/site-packages (from qdrant-client->-r requirements.txt (line 1)) (1.62.1)\n",
      "Requirement already satisfied: grpcio-tools>=1.41.0 in /home/yash.sehgal/miniconda3/lib/python3.12/site-packages (from qdrant-client->-r requirements.txt (line 1)) (1.62.1)\n",
      "Requirement already satisfied: httpx>=0.20.0 in /home/yash.sehgal/miniconda3/lib/python3.12/site-packages (from httpx[http2]>=0.20.0->qdrant-client->-r requirements.txt (line 1)) (0.27.0)\n",
      "Requirement already satisfied: portalocker<3.0.0,>=2.7.0 in /home/yash.sehgal/miniconda3/lib/python3.12/site-packages (from qdrant-client->-r requirements.txt (line 1)) (2.8.2)\n",
      "Requirement already satisfied: pydantic>=1.10.8 in /home/yash.sehgal/miniconda3/lib/python3.12/site-packages (from qdrant-client->-r requirements.txt (line 1)) (2.6.4)\n",
      "Requirement already satisfied: urllib3<3,>=1.26.14 in /home/yash.sehgal/miniconda3/lib/python3.12/site-packages (from qdrant-client->-r requirements.txt (line 1)) (2.2.1)\n",
      "Requirement already satisfied: filelock in /home/yash.sehgal/miniconda3/lib/python3.12/site-packages (from transformers->-r requirements.txt (line 2)) (3.13.3)\n",
      "Requirement already satisfied: huggingface-hub<1.0,>=0.23.2 in /home/yash.sehgal/miniconda3/lib/python3.12/site-packages (from transformers->-r requirements.txt (line 2)) (0.24.2)\n",
      "Requirement already satisfied: packaging>=20.0 in /home/yash.sehgal/miniconda3/lib/python3.12/site-packages (from transformers->-r requirements.txt (line 2)) (23.2)\n",
      "Requirement already satisfied: pyyaml>=5.1 in /home/yash.sehgal/miniconda3/lib/python3.12/site-packages (from transformers->-r requirements.txt (line 2)) (6.0.1)\n",
      "Requirement already satisfied: regex!=2019.12.17 in /home/yash.sehgal/miniconda3/lib/python3.12/site-packages (from transformers->-r requirements.txt (line 2)) (2023.12.25)\n",
      "Requirement already satisfied: requests in /home/yash.sehgal/miniconda3/lib/python3.12/site-packages (from transformers->-r requirements.txt (line 2)) (2.32.3)\n",
      "Requirement already satisfied: tokenizers<0.20,>=0.19 in /home/yash.sehgal/miniconda3/lib/python3.12/site-packages (from transformers->-r requirements.txt (line 2)) (0.19.1)\n",
      "Requirement already satisfied: safetensors>=0.4.1 in /home/yash.sehgal/miniconda3/lib/python3.12/site-packages (from transformers->-r requirements.txt (line 2)) (0.4.3)\n",
      "Requirement already satisfied: tqdm>=4.27 in /home/yash.sehgal/miniconda3/lib/python3.12/site-packages (from transformers->-r requirements.txt (line 2)) (4.66.4)\n",
      "Requirement already satisfied: pyarrow>=15.0.0 in /home/yash.sehgal/miniconda3/lib/python3.12/site-packages (from datasets->-r requirements.txt (line 3)) (17.0.0)\n",
      "Requirement already satisfied: pyarrow-hotfix in /home/yash.sehgal/miniconda3/lib/python3.12/site-packages (from datasets->-r requirements.txt (line 3)) (0.6)\n",
      "Requirement already satisfied: dill<0.3.9,>=0.3.0 in /home/yash.sehgal/miniconda3/lib/python3.12/site-packages (from datasets->-r requirements.txt (line 3)) (0.3.8)\n",
      "Requirement already satisfied: pandas in /home/yash.sehgal/miniconda3/lib/python3.12/site-packages (from datasets->-r requirements.txt (line 3)) (2.2.1)\n",
      "Requirement already satisfied: xxhash in /home/yash.sehgal/miniconda3/lib/python3.12/site-packages (from datasets->-r requirements.txt (line 3)) (3.4.1)\n",
      "Requirement already satisfied: multiprocess in /home/yash.sehgal/miniconda3/lib/python3.12/site-packages (from datasets->-r requirements.txt (line 3)) (0.70.16)\n",
      "Requirement already satisfied: fsspec<=2024.5.0,>=2023.1.0 in /home/yash.sehgal/miniconda3/lib/python3.12/site-packages (from fsspec[http]<=2024.5.0,>=2023.1.0->datasets->-r requirements.txt (line 3)) (2024.5.0)\n",
      "Requirement already satisfied: aiohttp in /home/yash.sehgal/miniconda3/lib/python3.12/site-packages (from datasets->-r requirements.txt (line 3)) (3.9.3)\n",
      "Requirement already satisfied: typing-extensions>=4.8.0 in /home/yash.sehgal/miniconda3/lib/python3.12/site-packages (from torch->-r requirements.txt (line 4)) (4.9.0)\n",
      "Requirement already satisfied: sympy in /home/yash.sehgal/miniconda3/lib/python3.12/site-packages (from torch->-r requirements.txt (line 4)) (1.13.1)\n",
      "Requirement already satisfied: networkx in /home/yash.sehgal/miniconda3/lib/python3.12/site-packages (from torch->-r requirements.txt (line 4)) (3.3)\n",
      "Requirement already satisfied: jinja2 in /home/yash.sehgal/miniconda3/lib/python3.12/site-packages (from torch->-r requirements.txt (line 4)) (3.1.3)\n",
      "Requirement already satisfied: setuptools in /home/yash.sehgal/miniconda3/lib/python3.12/site-packages (from torch->-r requirements.txt (line 4)) (68.2.2)\n",
      "Requirement already satisfied: nvidia-cuda-nvrtc-cu12==12.1.105 in /home/yash.sehgal/miniconda3/lib/python3.12/site-packages (from torch->-r requirements.txt (line 4)) (12.1.105)\n",
      "Requirement already satisfied: nvidia-cuda-runtime-cu12==12.1.105 in /home/yash.sehgal/miniconda3/lib/python3.12/site-packages (from torch->-r requirements.txt (line 4)) (12.1.105)\n",
      "Requirement already satisfied: nvidia-cuda-cupti-cu12==12.1.105 in /home/yash.sehgal/miniconda3/lib/python3.12/site-packages (from torch->-r requirements.txt (line 4)) (12.1.105)\n",
      "Requirement already satisfied: nvidia-cudnn-cu12==9.1.0.70 in /home/yash.sehgal/miniconda3/lib/python3.12/site-packages (from torch->-r requirements.txt (line 4)) (9.1.0.70)\n",
      "Requirement already satisfied: nvidia-cublas-cu12==12.1.3.1 in /home/yash.sehgal/miniconda3/lib/python3.12/site-packages (from torch->-r requirements.txt (line 4)) (12.1.3.1)\n",
      "Requirement already satisfied: nvidia-cufft-cu12==11.0.2.54 in /home/yash.sehgal/miniconda3/lib/python3.12/site-packages (from torch->-r requirements.txt (line 4)) (11.0.2.54)\n",
      "Requirement already satisfied: nvidia-curand-cu12==10.3.2.106 in /home/yash.sehgal/miniconda3/lib/python3.12/site-packages (from torch->-r requirements.txt (line 4)) (10.3.2.106)\n",
      "Requirement already satisfied: nvidia-cusolver-cu12==11.4.5.107 in /home/yash.sehgal/miniconda3/lib/python3.12/site-packages (from torch->-r requirements.txt (line 4)) (11.4.5.107)\n",
      "Requirement already satisfied: nvidia-cusparse-cu12==12.1.0.106 in /home/yash.sehgal/miniconda3/lib/python3.12/site-packages (from torch->-r requirements.txt (line 4)) (12.1.0.106)\n",
      "Requirement already satisfied: nvidia-nccl-cu12==2.20.5 in /home/yash.sehgal/miniconda3/lib/python3.12/site-packages (from torch->-r requirements.txt (line 4)) (2.20.5)\n",
      "Requirement already satisfied: nvidia-nvtx-cu12==12.1.105 in /home/yash.sehgal/miniconda3/lib/python3.12/site-packages (from torch->-r requirements.txt (line 4)) (12.1.105)\n",
      "Requirement already satisfied: triton==3.0.0 in /home/yash.sehgal/miniconda3/lib/python3.12/site-packages (from torch->-r requirements.txt (line 4)) (3.0.0)\n",
      "Requirement already satisfied: nvidia-nvjitlink-cu12 in /home/yash.sehgal/miniconda3/lib/python3.12/site-packages (from nvidia-cusolver-cu12==11.4.5.107->torch->-r requirements.txt (line 4)) (12.5.82)\n",
      "Requirement already satisfied: aiosignal>=1.1.2 in /home/yash.sehgal/miniconda3/lib/python3.12/site-packages (from aiohttp->datasets->-r requirements.txt (line 3)) (1.3.1)\n",
      "Requirement already satisfied: attrs>=17.3.0 in /home/yash.sehgal/miniconda3/lib/python3.12/site-packages (from aiohttp->datasets->-r requirements.txt (line 3)) (23.1.0)\n",
      "Requirement already satisfied: frozenlist>=1.1.1 in /home/yash.sehgal/miniconda3/lib/python3.12/site-packages (from aiohttp->datasets->-r requirements.txt (line 3)) (1.4.1)\n",
      "Requirement already satisfied: multidict<7.0,>=4.5 in /home/yash.sehgal/miniconda3/lib/python3.12/site-packages (from aiohttp->datasets->-r requirements.txt (line 3)) (6.0.5)\n",
      "Requirement already satisfied: yarl<2.0,>=1.0 in /home/yash.sehgal/miniconda3/lib/python3.12/site-packages (from aiohttp->datasets->-r requirements.txt (line 3)) (1.9.4)\n",
      "Requirement already satisfied: protobuf<5.0dev,>=4.21.6 in /home/yash.sehgal/miniconda3/lib/python3.12/site-packages (from grpcio-tools>=1.41.0->qdrant-client->-r requirements.txt (line 1)) (4.25.3)\n",
      "Requirement already satisfied: anyio in /home/yash.sehgal/miniconda3/lib/python3.12/site-packages (from httpx>=0.20.0->httpx[http2]>=0.20.0->qdrant-client->-r requirements.txt (line 1)) (4.2.0)\n",
      "Requirement already satisfied: certifi in /home/yash.sehgal/miniconda3/lib/python3.12/site-packages (from httpx>=0.20.0->httpx[http2]>=0.20.0->qdrant-client->-r requirements.txt (line 1)) (2023.7.22)\n",
      "Requirement already satisfied: httpcore==1.* in /home/yash.sehgal/miniconda3/lib/python3.12/site-packages (from httpx>=0.20.0->httpx[http2]>=0.20.0->qdrant-client->-r requirements.txt (line 1)) (1.0.5)\n",
      "Requirement already satisfied: idna in /home/yash.sehgal/miniconda3/lib/python3.12/site-packages (from httpx>=0.20.0->httpx[http2]>=0.20.0->qdrant-client->-r requirements.txt (line 1)) (2.10)\n",
      "Requirement already satisfied: sniffio in /home/yash.sehgal/miniconda3/lib/python3.12/site-packages (from httpx>=0.20.0->httpx[http2]>=0.20.0->qdrant-client->-r requirements.txt (line 1)) (1.3.0)\n",
      "Requirement already satisfied: h11<0.15,>=0.13 in /home/yash.sehgal/miniconda3/lib/python3.12/site-packages (from httpcore==1.*->httpx>=0.20.0->httpx[http2]>=0.20.0->qdrant-client->-r requirements.txt (line 1)) (0.14.0)\n",
      "Requirement already satisfied: h2<5,>=3 in /home/yash.sehgal/miniconda3/lib/python3.12/site-packages (from httpx[http2]>=0.20.0->qdrant-client->-r requirements.txt (line 1)) (4.1.0)\n",
      "Requirement already satisfied: annotated-types>=0.4.0 in /home/yash.sehgal/miniconda3/lib/python3.12/site-packages (from pydantic>=1.10.8->qdrant-client->-r requirements.txt (line 1)) (0.6.0)\n",
      "Requirement already satisfied: pydantic-core==2.16.3 in /home/yash.sehgal/miniconda3/lib/python3.12/site-packages (from pydantic>=1.10.8->qdrant-client->-r requirements.txt (line 1)) (2.16.3)\n",
      "Requirement already satisfied: charset-normalizer<4,>=2 in /home/yash.sehgal/miniconda3/lib/python3.12/site-packages (from requests->transformers->-r requirements.txt (line 2)) (2.0.4)\n",
      "Requirement already satisfied: MarkupSafe>=2.0 in /home/yash.sehgal/miniconda3/lib/python3.12/site-packages (from jinja2->torch->-r requirements.txt (line 4)) (2.1.3)\n",
      "Requirement already satisfied: python-dateutil>=2.8.2 in /home/yash.sehgal/miniconda3/lib/python3.12/site-packages (from pandas->datasets->-r requirements.txt (line 3)) (2.8.2)\n",
      "Requirement already satisfied: pytz>=2020.1 in /home/yash.sehgal/miniconda3/lib/python3.12/site-packages (from pandas->datasets->-r requirements.txt (line 3)) (2023.3.post1)\n",
      "Requirement already satisfied: tzdata>=2022.7 in /home/yash.sehgal/miniconda3/lib/python3.12/site-packages (from pandas->datasets->-r requirements.txt (line 3)) (2024.1)\n",
      "Requirement already satisfied: mpmath<1.4,>=1.1.0 in /home/yash.sehgal/miniconda3/lib/python3.12/site-packages (from sympy->torch->-r requirements.txt (line 4)) (1.3.0)\n",
      "Requirement already satisfied: hyperframe<7,>=6.0 in /home/yash.sehgal/miniconda3/lib/python3.12/site-packages (from h2<5,>=3->httpx[http2]>=0.20.0->qdrant-client->-r requirements.txt (line 1)) (6.0.1)\n",
      "Requirement already satisfied: hpack<5,>=4.0 in /home/yash.sehgal/miniconda3/lib/python3.12/site-packages (from h2<5,>=3->httpx[http2]>=0.20.0->qdrant-client->-r requirements.txt (line 1)) (4.0.0)\n",
      "Requirement already satisfied: six>=1.5 in /home/yash.sehgal/miniconda3/lib/python3.12/site-packages (from python-dateutil>=2.8.2->pandas->datasets->-r requirements.txt (line 3)) (1.16.0)\n"
     ]
    }
   ],
   "source": [
    "!pip install -r requirements.txt"
   ]
  },
  {
   "cell_type": "code",
   "execution_count": 2,
   "id": "d34ca500-e600-43ba-8517-ca8efa13a5b5",
   "metadata": {},
   "outputs": [
    {
     "name": "stdout",
     "output_type": "stream",
     "text": [
      "Requirement already satisfied: langchain-experimental in /home/yash.sehgal/miniconda3/lib/python3.12/site-packages (0.0.63)\n",
      "Requirement already satisfied: qdrant-client in /home/yash.sehgal/miniconda3/lib/python3.12/site-packages (1.10.1)\n",
      "Requirement already satisfied: datasets in /home/yash.sehgal/miniconda3/lib/python3.12/site-packages (2.20.0)\n",
      "Requirement already satisfied: sentence_transformers in /home/yash.sehgal/miniconda3/lib/python3.12/site-packages (3.0.1)\n",
      "Requirement already satisfied: langchain-community<0.3.0,>=0.2.6 in /home/yash.sehgal/miniconda3/lib/python3.12/site-packages (from langchain-experimental) (0.2.10)\n",
      "Requirement already satisfied: langchain-core<0.3.0,>=0.2.10 in /home/yash.sehgal/miniconda3/lib/python3.12/site-packages (from langchain-experimental) (0.2.23)\n",
      "Requirement already satisfied: grpcio>=1.41.0 in /home/yash.sehgal/miniconda3/lib/python3.12/site-packages (from qdrant-client) (1.62.1)\n",
      "Requirement already satisfied: grpcio-tools>=1.41.0 in /home/yash.sehgal/miniconda3/lib/python3.12/site-packages (from qdrant-client) (1.62.1)\n",
      "Requirement already satisfied: httpx>=0.20.0 in /home/yash.sehgal/miniconda3/lib/python3.12/site-packages (from httpx[http2]>=0.20.0->qdrant-client) (0.27.0)\n",
      "Requirement already satisfied: numpy>=1.26 in /home/yash.sehgal/miniconda3/lib/python3.12/site-packages (from qdrant-client) (1.26.4)\n",
      "Requirement already satisfied: portalocker<3.0.0,>=2.7.0 in /home/yash.sehgal/miniconda3/lib/python3.12/site-packages (from qdrant-client) (2.8.2)\n",
      "Requirement already satisfied: pydantic>=1.10.8 in /home/yash.sehgal/miniconda3/lib/python3.12/site-packages (from qdrant-client) (2.6.4)\n",
      "Requirement already satisfied: urllib3<3,>=1.26.14 in /home/yash.sehgal/miniconda3/lib/python3.12/site-packages (from qdrant-client) (2.2.1)\n",
      "Requirement already satisfied: filelock in /home/yash.sehgal/miniconda3/lib/python3.12/site-packages (from datasets) (3.13.3)\n",
      "Requirement already satisfied: pyarrow>=15.0.0 in /home/yash.sehgal/miniconda3/lib/python3.12/site-packages (from datasets) (17.0.0)\n",
      "Requirement already satisfied: pyarrow-hotfix in /home/yash.sehgal/miniconda3/lib/python3.12/site-packages (from datasets) (0.6)\n",
      "Requirement already satisfied: dill<0.3.9,>=0.3.0 in /home/yash.sehgal/miniconda3/lib/python3.12/site-packages (from datasets) (0.3.8)\n",
      "Requirement already satisfied: pandas in /home/yash.sehgal/miniconda3/lib/python3.12/site-packages (from datasets) (2.2.1)\n",
      "Requirement already satisfied: requests>=2.32.2 in /home/yash.sehgal/miniconda3/lib/python3.12/site-packages (from datasets) (2.32.3)\n",
      "Requirement already satisfied: tqdm>=4.66.3 in /home/yash.sehgal/miniconda3/lib/python3.12/site-packages (from datasets) (4.66.4)\n",
      "Requirement already satisfied: xxhash in /home/yash.sehgal/miniconda3/lib/python3.12/site-packages (from datasets) (3.4.1)\n",
      "Requirement already satisfied: multiprocess in /home/yash.sehgal/miniconda3/lib/python3.12/site-packages (from datasets) (0.70.16)\n",
      "Requirement already satisfied: fsspec<=2024.5.0,>=2023.1.0 in /home/yash.sehgal/miniconda3/lib/python3.12/site-packages (from fsspec[http]<=2024.5.0,>=2023.1.0->datasets) (2024.5.0)\n",
      "Requirement already satisfied: aiohttp in /home/yash.sehgal/miniconda3/lib/python3.12/site-packages (from datasets) (3.9.3)\n",
      "Requirement already satisfied: huggingface-hub>=0.21.2 in /home/yash.sehgal/miniconda3/lib/python3.12/site-packages (from datasets) (0.24.2)\n",
      "Requirement already satisfied: packaging in /home/yash.sehgal/miniconda3/lib/python3.12/site-packages (from datasets) (23.2)\n",
      "Requirement already satisfied: pyyaml>=5.1 in /home/yash.sehgal/miniconda3/lib/python3.12/site-packages (from datasets) (6.0.1)\n",
      "Requirement already satisfied: transformers<5.0.0,>=4.34.0 in /home/yash.sehgal/miniconda3/lib/python3.12/site-packages (from sentence_transformers) (4.43.2)\n",
      "Requirement already satisfied: torch>=1.11.0 in /home/yash.sehgal/miniconda3/lib/python3.12/site-packages (from sentence_transformers) (2.4.0)\n",
      "Requirement already satisfied: scikit-learn in /home/yash.sehgal/miniconda3/lib/python3.12/site-packages (from sentence_transformers) (1.5.1)\n",
      "Requirement already satisfied: scipy in /home/yash.sehgal/miniconda3/lib/python3.12/site-packages (from sentence_transformers) (1.13.0)\n",
      "Requirement already satisfied: Pillow in /home/yash.sehgal/miniconda3/lib/python3.12/site-packages (from sentence_transformers) (10.3.0)\n",
      "Requirement already satisfied: aiosignal>=1.1.2 in /home/yash.sehgal/miniconda3/lib/python3.12/site-packages (from aiohttp->datasets) (1.3.1)\n",
      "Requirement already satisfied: attrs>=17.3.0 in /home/yash.sehgal/miniconda3/lib/python3.12/site-packages (from aiohttp->datasets) (23.1.0)\n",
      "Requirement already satisfied: frozenlist>=1.1.1 in /home/yash.sehgal/miniconda3/lib/python3.12/site-packages (from aiohttp->datasets) (1.4.1)\n",
      "Requirement already satisfied: multidict<7.0,>=4.5 in /home/yash.sehgal/miniconda3/lib/python3.12/site-packages (from aiohttp->datasets) (6.0.5)\n",
      "Requirement already satisfied: yarl<2.0,>=1.0 in /home/yash.sehgal/miniconda3/lib/python3.12/site-packages (from aiohttp->datasets) (1.9.4)\n",
      "Requirement already satisfied: protobuf<5.0dev,>=4.21.6 in /home/yash.sehgal/miniconda3/lib/python3.12/site-packages (from grpcio-tools>=1.41.0->qdrant-client) (4.25.3)\n",
      "Requirement already satisfied: setuptools in /home/yash.sehgal/miniconda3/lib/python3.12/site-packages (from grpcio-tools>=1.41.0->qdrant-client) (68.2.2)\n",
      "Requirement already satisfied: anyio in /home/yash.sehgal/miniconda3/lib/python3.12/site-packages (from httpx>=0.20.0->httpx[http2]>=0.20.0->qdrant-client) (4.2.0)\n",
      "Requirement already satisfied: certifi in /home/yash.sehgal/miniconda3/lib/python3.12/site-packages (from httpx>=0.20.0->httpx[http2]>=0.20.0->qdrant-client) (2023.7.22)\n",
      "Requirement already satisfied: httpcore==1.* in /home/yash.sehgal/miniconda3/lib/python3.12/site-packages (from httpx>=0.20.0->httpx[http2]>=0.20.0->qdrant-client) (1.0.5)\n",
      "Requirement already satisfied: idna in /home/yash.sehgal/miniconda3/lib/python3.12/site-packages (from httpx>=0.20.0->httpx[http2]>=0.20.0->qdrant-client) (2.10)\n",
      "Requirement already satisfied: sniffio in /home/yash.sehgal/miniconda3/lib/python3.12/site-packages (from httpx>=0.20.0->httpx[http2]>=0.20.0->qdrant-client) (1.3.0)\n",
      "Requirement already satisfied: h11<0.15,>=0.13 in /home/yash.sehgal/miniconda3/lib/python3.12/site-packages (from httpcore==1.*->httpx>=0.20.0->httpx[http2]>=0.20.0->qdrant-client) (0.14.0)\n",
      "Requirement already satisfied: h2<5,>=3 in /home/yash.sehgal/miniconda3/lib/python3.12/site-packages (from httpx[http2]>=0.20.0->qdrant-client) (4.1.0)\n",
      "Requirement already satisfied: typing-extensions>=3.7.4.3 in /home/yash.sehgal/miniconda3/lib/python3.12/site-packages (from huggingface-hub>=0.21.2->datasets) (4.9.0)\n",
      "Requirement already satisfied: SQLAlchemy<3,>=1.4 in /home/yash.sehgal/miniconda3/lib/python3.12/site-packages (from langchain-community<0.3.0,>=0.2.6->langchain-experimental) (2.0.29)\n",
      "Requirement already satisfied: dataclasses-json<0.7,>=0.5.7 in /home/yash.sehgal/miniconda3/lib/python3.12/site-packages (from langchain-community<0.3.0,>=0.2.6->langchain-experimental) (0.6.4)\n",
      "Requirement already satisfied: langchain<0.3.0,>=0.2.9 in /home/yash.sehgal/miniconda3/lib/python3.12/site-packages (from langchain-community<0.3.0,>=0.2.6->langchain-experimental) (0.2.11)\n",
      "Requirement already satisfied: langsmith<0.2.0,>=0.1.0 in /home/yash.sehgal/miniconda3/lib/python3.12/site-packages (from langchain-community<0.3.0,>=0.2.6->langchain-experimental) (0.1.93)\n",
      "Requirement already satisfied: tenacity!=8.4.0,<9.0.0,>=8.1.0 in /home/yash.sehgal/miniconda3/lib/python3.12/site-packages (from langchain-community<0.3.0,>=0.2.6->langchain-experimental) (8.2.3)\n",
      "Requirement already satisfied: jsonpatch<2.0,>=1.33 in /home/yash.sehgal/miniconda3/lib/python3.12/site-packages (from langchain-core<0.3.0,>=0.2.10->langchain-experimental) (1.33)\n",
      "Requirement already satisfied: annotated-types>=0.4.0 in /home/yash.sehgal/miniconda3/lib/python3.12/site-packages (from pydantic>=1.10.8->qdrant-client) (0.6.0)\n",
      "Requirement already satisfied: pydantic-core==2.16.3 in /home/yash.sehgal/miniconda3/lib/python3.12/site-packages (from pydantic>=1.10.8->qdrant-client) (2.16.3)\n",
      "Requirement already satisfied: charset-normalizer<4,>=2 in /home/yash.sehgal/miniconda3/lib/python3.12/site-packages (from requests>=2.32.2->datasets) (2.0.4)\n",
      "Requirement already satisfied: sympy in /home/yash.sehgal/miniconda3/lib/python3.12/site-packages (from torch>=1.11.0->sentence_transformers) (1.13.1)\n",
      "Requirement already satisfied: networkx in /home/yash.sehgal/miniconda3/lib/python3.12/site-packages (from torch>=1.11.0->sentence_transformers) (3.3)\n",
      "Requirement already satisfied: jinja2 in /home/yash.sehgal/miniconda3/lib/python3.12/site-packages (from torch>=1.11.0->sentence_transformers) (3.1.3)\n",
      "Requirement already satisfied: nvidia-cuda-nvrtc-cu12==12.1.105 in /home/yash.sehgal/miniconda3/lib/python3.12/site-packages (from torch>=1.11.0->sentence_transformers) (12.1.105)\n",
      "Requirement already satisfied: nvidia-cuda-runtime-cu12==12.1.105 in /home/yash.sehgal/miniconda3/lib/python3.12/site-packages (from torch>=1.11.0->sentence_transformers) (12.1.105)\n",
      "Requirement already satisfied: nvidia-cuda-cupti-cu12==12.1.105 in /home/yash.sehgal/miniconda3/lib/python3.12/site-packages (from torch>=1.11.0->sentence_transformers) (12.1.105)\n",
      "Requirement already satisfied: nvidia-cudnn-cu12==9.1.0.70 in /home/yash.sehgal/miniconda3/lib/python3.12/site-packages (from torch>=1.11.0->sentence_transformers) (9.1.0.70)\n",
      "Requirement already satisfied: nvidia-cublas-cu12==12.1.3.1 in /home/yash.sehgal/miniconda3/lib/python3.12/site-packages (from torch>=1.11.0->sentence_transformers) (12.1.3.1)\n",
      "Requirement already satisfied: nvidia-cufft-cu12==11.0.2.54 in /home/yash.sehgal/miniconda3/lib/python3.12/site-packages (from torch>=1.11.0->sentence_transformers) (11.0.2.54)\n",
      "Requirement already satisfied: nvidia-curand-cu12==10.3.2.106 in /home/yash.sehgal/miniconda3/lib/python3.12/site-packages (from torch>=1.11.0->sentence_transformers) (10.3.2.106)\n",
      "Requirement already satisfied: nvidia-cusolver-cu12==11.4.5.107 in /home/yash.sehgal/miniconda3/lib/python3.12/site-packages (from torch>=1.11.0->sentence_transformers) (11.4.5.107)\n",
      "Requirement already satisfied: nvidia-cusparse-cu12==12.1.0.106 in /home/yash.sehgal/miniconda3/lib/python3.12/site-packages (from torch>=1.11.0->sentence_transformers) (12.1.0.106)\n",
      "Requirement already satisfied: nvidia-nccl-cu12==2.20.5 in /home/yash.sehgal/miniconda3/lib/python3.12/site-packages (from torch>=1.11.0->sentence_transformers) (2.20.5)\n",
      "Requirement already satisfied: nvidia-nvtx-cu12==12.1.105 in /home/yash.sehgal/miniconda3/lib/python3.12/site-packages (from torch>=1.11.0->sentence_transformers) (12.1.105)\n",
      "Requirement already satisfied: triton==3.0.0 in /home/yash.sehgal/miniconda3/lib/python3.12/site-packages (from torch>=1.11.0->sentence_transformers) (3.0.0)\n",
      "Requirement already satisfied: nvidia-nvjitlink-cu12 in /home/yash.sehgal/miniconda3/lib/python3.12/site-packages (from nvidia-cusolver-cu12==11.4.5.107->torch>=1.11.0->sentence_transformers) (12.5.82)\n",
      "Requirement already satisfied: regex!=2019.12.17 in /home/yash.sehgal/miniconda3/lib/python3.12/site-packages (from transformers<5.0.0,>=4.34.0->sentence_transformers) (2023.12.25)\n",
      "Requirement already satisfied: tokenizers<0.20,>=0.19 in /home/yash.sehgal/miniconda3/lib/python3.12/site-packages (from transformers<5.0.0,>=4.34.0->sentence_transformers) (0.19.1)\n",
      "Requirement already satisfied: safetensors>=0.4.1 in /home/yash.sehgal/miniconda3/lib/python3.12/site-packages (from transformers<5.0.0,>=4.34.0->sentence_transformers) (0.4.3)\n",
      "Requirement already satisfied: python-dateutil>=2.8.2 in /home/yash.sehgal/miniconda3/lib/python3.12/site-packages (from pandas->datasets) (2.8.2)\n",
      "Requirement already satisfied: pytz>=2020.1 in /home/yash.sehgal/miniconda3/lib/python3.12/site-packages (from pandas->datasets) (2023.3.post1)\n",
      "Requirement already satisfied: tzdata>=2022.7 in /home/yash.sehgal/miniconda3/lib/python3.12/site-packages (from pandas->datasets) (2024.1)\n",
      "Requirement already satisfied: joblib>=1.2.0 in /home/yash.sehgal/miniconda3/lib/python3.12/site-packages (from scikit-learn->sentence_transformers) (1.4.2)\n",
      "Requirement already satisfied: threadpoolctl>=3.1.0 in /home/yash.sehgal/miniconda3/lib/python3.12/site-packages (from scikit-learn->sentence_transformers) (3.5.0)\n",
      "Requirement already satisfied: marshmallow<4.0.0,>=3.18.0 in /home/yash.sehgal/miniconda3/lib/python3.12/site-packages (from dataclasses-json<0.7,>=0.5.7->langchain-community<0.3.0,>=0.2.6->langchain-experimental) (3.21.1)\n",
      "Requirement already satisfied: typing-inspect<1,>=0.4.0 in /home/yash.sehgal/miniconda3/lib/python3.12/site-packages (from dataclasses-json<0.7,>=0.5.7->langchain-community<0.3.0,>=0.2.6->langchain-experimental) (0.9.0)\n",
      "Requirement already satisfied: hyperframe<7,>=6.0 in /home/yash.sehgal/miniconda3/lib/python3.12/site-packages (from h2<5,>=3->httpx[http2]>=0.20.0->qdrant-client) (6.0.1)\n",
      "Requirement already satisfied: hpack<5,>=4.0 in /home/yash.sehgal/miniconda3/lib/python3.12/site-packages (from h2<5,>=3->httpx[http2]>=0.20.0->qdrant-client) (4.0.0)\n",
      "Requirement already satisfied: jsonpointer>=1.9 in /home/yash.sehgal/miniconda3/lib/python3.12/site-packages (from jsonpatch<2.0,>=1.33->langchain-core<0.3.0,>=0.2.10->langchain-experimental) (2.1)\n",
      "Requirement already satisfied: langchain-text-splitters<0.3.0,>=0.2.0 in /home/yash.sehgal/miniconda3/lib/python3.12/site-packages (from langchain<0.3.0,>=0.2.9->langchain-community<0.3.0,>=0.2.6->langchain-experimental) (0.2.2)\n",
      "Requirement already satisfied: orjson<4.0.0,>=3.9.14 in /home/yash.sehgal/miniconda3/lib/python3.12/site-packages (from langsmith<0.2.0,>=0.1.0->langchain-community<0.3.0,>=0.2.6->langchain-experimental) (3.10.0)\n",
      "Requirement already satisfied: six>=1.5 in /home/yash.sehgal/miniconda3/lib/python3.12/site-packages (from python-dateutil>=2.8.2->pandas->datasets) (1.16.0)\n",
      "Requirement already satisfied: greenlet!=0.4.17 in /home/yash.sehgal/miniconda3/lib/python3.12/site-packages (from SQLAlchemy<3,>=1.4->langchain-community<0.3.0,>=0.2.6->langchain-experimental) (3.0.3)\n",
      "Requirement already satisfied: MarkupSafe>=2.0 in /home/yash.sehgal/miniconda3/lib/python3.12/site-packages (from jinja2->torch>=1.11.0->sentence_transformers) (2.1.3)\n",
      "Requirement already satisfied: mpmath<1.4,>=1.1.0 in /home/yash.sehgal/miniconda3/lib/python3.12/site-packages (from sympy->torch>=1.11.0->sentence_transformers) (1.3.0)\n",
      "Requirement already satisfied: mypy-extensions>=0.3.0 in /home/yash.sehgal/miniconda3/lib/python3.12/site-packages (from typing-inspect<1,>=0.4.0->dataclasses-json<0.7,>=0.5.7->langchain-community<0.3.0,>=0.2.6->langchain-experimental) (1.0.0)\n"
     ]
    }
   ],
   "source": [
    "!pip install --upgrade langchain-experimental qdrant-client datasets sentence_transformers\n"
   ]
  },
  {
   "cell_type": "code",
   "execution_count": 3,
   "id": "95ea2225-a2c7-4218-bba0-8a9c91367c7e",
   "metadata": {},
   "outputs": [],
   "source": [
    "from datasets import load_dataset\n",
    "\n",
    "data = load_dataset(\n",
    "    \"ashraq/fashion-product-images-small\",\n",
    "    split=\"train\"\n",
    ")"
   ]
  },
  {
   "cell_type": "code",
   "execution_count": 4,
   "id": "3afb7685-f7c9-4e6c-a0c7-04aee54aa086",
   "metadata": {},
   "outputs": [
    {
     "name": "stderr",
     "output_type": "stream",
     "text": [
      "2024-07-29 10:51:21.158205: I tensorflow/core/platform/cpu_feature_guard.cc:210] This TensorFlow binary is optimized to use available CPU instructions in performance-critical operations.\n",
      "To enable the following instructions: AVX2 FMA, in other operations, rebuild TensorFlow with the appropriate compiler flags.\n",
      "2024-07-29 10:51:23.842937: W tensorflow/compiler/tf2tensorrt/utils/py_utils.cc:38] TF-TRT Warning: Could not find TensorRT\n"
     ]
    }
   ],
   "source": [
    "from sentence_transformers import SentenceTransformer\n",
    "\n",
    "images = data[\"image\"]\n",
    "model = SentenceTransformer('clip-ViT-B-32')\n",
    "\n",
    "image_embeddings = model.encode([image for image in images[0:1000]])"
   ]
  },
  {
   "cell_type": "code",
   "execution_count": 5,
   "id": "c36a95e0-1ad1-46d3-9023-c130a0b32c3a",
   "metadata": {},
   "outputs": [
    {
     "name": "stderr",
     "output_type": "stream",
     "text": [
      "/tmp/ipykernel_9331/627688847.py:6: DeprecationWarning: `recreate_collection` method is deprecated and will be removed in the future. Use `collection_exists` to check collection existence and `create_collection` instead.\n",
      "  client.recreate_collection(\n"
     ]
    },
    {
     "data": {
      "text/plain": [
       "True"
      ]
     },
     "execution_count": 5,
     "metadata": {},
     "output_type": "execute_result"
    }
   ],
   "source": [
    "from qdrant_client import QdrantClient\n",
    "from qdrant_client.http import models\n",
    "\n",
    "# Initialize Qdrant client and create a collection\n",
    "client = QdrantClient(\":memory:\")\n",
    "client.recreate_collection(\n",
    "    collection_name=\"mycollection1\",\n",
    "    vectors_config={\"image\": models.VectorParams(size=512, distance=models.Distance.COSINE)}\n",
    ")"
   ]
  },
  {
   "cell_type": "code",
   "execution_count": 6,
   "id": "98fcf571-8e2b-42e4-b2a4-3401f7a6d72f",
   "metadata": {},
   "outputs": [],
   "source": [
    "from PIL import Image\n",
    "from io import BytesIO\n",
    "import base64\n",
    "\n",
    "def pil_image_to_base64(pil_image):\n",
    "    \"\"\"\n",
    "    Convert a PIL image to a base64-encoded string.\n",
    "\n",
    "    Args:\n",
    "        pil_image (PIL.JpegImagePlugin.JpegImageFile): A PIL image object.\n",
    "\n",
    "    Returns:\n",
    "        str: The base64-encoded image data.\n",
    "    \"\"\"\n",
    "    byte_io = BytesIO()\n",
    "    pil_image.save(byte_io, format='JPEG')\n",
    "    byte_image = byte_io.getvalue()\n",
    "    base64_image = base64.b64encode(byte_image).decode('utf-8')\n",
    "    return base64_image"
   ]
  },
  {
   "cell_type": "code",
   "execution_count": 7,
   "id": "271b81f4-93bb-4fce-9fb0-4eddc92f9ad4",
   "metadata": {},
   "outputs": [
    {
     "name": "stderr",
     "output_type": "stream",
     "text": [
      "  2%|▊                                   | 1000/44072 [00:00<00:05, 8534.34it/s]\n"
     ]
    },
    {
     "data": {
      "text/plain": [
       "UpdateResult(operation_id=0, status=<UpdateStatus.COMPLETED: 'completed'>)"
      ]
     },
     "execution_count": 7,
     "metadata": {},
     "output_type": "execute_result"
    }
   ],
   "source": [
    "import uuid\n",
    "from qdrant_client.http.models import PointStruct\n",
    "from tqdm import tqdm\n",
    "\n",
    "ids = data['id']\n",
    "display_name = data['productDisplayName']\n",
    "\n",
    "points = []\n",
    "\n",
    "for embedding, image, id, product_display_name in tqdm(zip(image_embeddings, images[:1000], ids[:1000], display_name[:1000]), total=len(ids)):\n",
    "    payload = {\"id\": id, \"productDisplayName\": product_display_name, \"base64_image\": pil_image_to_base64(image)}\n",
    "    embeddings = embedding.tolist()\n",
    "    point_id = str(uuid.uuid4())  # Generate a unique ID for the point\n",
    "    points.append(PointStruct(id=point_id, payload=payload, vector={\"image\": embeddings}))\n",
    "\n",
    "client.upsert(\n",
    "    collection_name=\"mycollection1\",\n",
    "    wait=True,\n",
    "    points=points\n",
    ")"
   ]
  },
  {
   "cell_type": "code",
   "execution_count": 8,
   "id": "204f7889-f48e-4170-8d42-d60c466f3b53",
   "metadata": {},
   "outputs": [
    {
     "name": "stdout",
     "output_type": "stream",
     "text": [
      "Fastrack Unisex Black Dial Watch 9915PP13\n"
     ]
    },
    {
     "data": {
      "image/jpeg": "[encoded data removed]",
      "image/png": "[encoded data removed]",
      "text/plain": [
       "<PIL.JpegImagePlugin.JpegImageFile image mode=RGB size=60x80>"
      ]
     },
     "metadata": {},
     "output_type": "display_data"
    },
    {
     "name": "stdout",
     "output_type": "stream",
     "text": [
      "Fastrack Men Black Watch\n"
     ]
    },
    {
     "data": {
      "image/jpeg": "[encoded data removed]",
      "image/png": "[encoded data removed]",
      "text/plain": [
       "<PIL.JpegImagePlugin.JpegImageFile image mode=RGB size=60x80>"
      ]
     },
     "metadata": {},
     "output_type": "display_data"
    },
    {
     "name": "stdout",
     "output_type": "stream",
     "text": [
      "Carrera Men Dial steel finish strap Silver Watches\n"
     ]
    },
    {
     "data": {
      "image/jpeg": "[encoded data removed]",
      "image/png": "[encoded data removed]",
      "text/plain": [
       "<PIL.JpegImagePlugin.JpegImageFile image mode=RGB size=60x80>"
      ]
     },
     "metadata": {},
     "output_type": "display_data"
    }
   ],
   "source": [
    "q = \"watch for man\"\n",
    "query_embedding = model.encode(q)\n",
    "\n",
    "image_hits = client.search(\n",
    "    collection_name='mycollection1',\n",
    "    query_vector=models.NamedVector(\n",
    "        name=\"image\",\n",
    "        vector=query_embedding.tolist()\n",
    "    ),\n",
    "    limit=3\n",
    ")\n",
    "\n",
    "from IPython.display import display\n",
    "import io\n",
    "\n",
    "def display_base64_image(base64_string):\n",
    "    image_data = base64.b64decode(base64_string)\n",
    "    image_bytes = io.BytesIO(image_data)\n",
    "    image = Image.open(image_bytes)\n",
    "    display(image)\n",
    "\n",
    "for product in image_hits:\n",
    "    print(product.payload['productDisplayName'])\n",
    "    display_base64_image(product.payload['base64_image'])"
   ]
  },
  {
   "cell_type": "code",
   "execution_count": 9,
   "id": "b166b2a1-d2c9-450d-84c8-853727b629c0",
   "metadata": {},
   "outputs": [
    {
     "name": "stdout",
     "output_type": "stream",
     "text": [
      "Image Women Classic Eyewear Brown Sunglasses\n"
     ]
    },
    {
     "data": {
      "image/jpeg": "[encoded data removed]",
      "image/png": "[encoded data removed]",
      "text/plain": [
       "<PIL.JpegImagePlugin.JpegImageFile image mode=RGB size=60x80>"
      ]
     },
     "metadata": {},
     "output_type": "display_data"
    },
    {
     "name": "stdout",
     "output_type": "stream",
     "text": [
      "Vogue Women White Sunglasses\n"
     ]
    },
    {
     "data": {
      "image/jpeg": "[encoded data removed]",
      "image/png": "[encoded data removed]",
      "text/plain": [
       "<PIL.JpegImagePlugin.JpegImageFile image mode=RGB size=60x80>"
      ]
     },
     "metadata": {},
     "output_type": "display_data"
    },
    {
     "name": "stdout",
     "output_type": "stream",
     "text": [
      "Park Avenue Men Black Sunglasses\n"
     ]
    },
    {
     "data": {
      "image/jpeg": "[encoded data removed]",
      "image/png": "[encoded data removed]",
      "text/plain": [
       "<PIL.JpegImagePlugin.JpegImageFile image mode=RGB size=60x80>"
      ]
     },
     "metadata": {},
     "output_type": "display_data"
    }
   ],
   "source": [
    "from PIL import Image\n",
    "\n",
    "# Assuming 'image_path' is the path to your image file\n",
    "image_path = \"pic.jpg\"  # Update this with your image file path\n",
    "    # Open the image file\n",
    "img = Image.open(image_path)\n",
    "    \n",
    "    # Display the image (optional)\n",
    "img.show()\n",
    "    \n",
    "    # Further operations can be performed on the 'img' PIL image object\n",
    "query_embedding = model.encode(img)\n",
    "\n",
    "image_hits = client.search(\n",
    "    collection_name='mycollection1',\n",
    "    query_vector=models.NamedVector(\n",
    "        name=\"image\",\n",
    "        vector=query_embedding.tolist()\n",
    "    ),\n",
    "    limit=3\n",
    ")\n",
    "\n",
    "for product in image_hits:\n",
    "    print(product.payload['productDisplayName'])\n",
    "    display_base64_image(product.payload['base64_image'])"
   ]
  },
  {
   "cell_type": "code",
   "execution_count": null,
   "id": "fc54a660-c394-42c9-b97b-0897211617f6",
   "metadata": {},
   "outputs": [],
   "source": []
  },
  {
   "cell_type": "code",
   "execution_count": null,
   "id": "d6d714be-4eba-44b4-ac4e-e986c6a5bb34",
   "metadata": {},
   "outputs": [],
   "source": []
  }
 ],
 "metadata": {
  "kernelspec": {
   "display_name": "Python 3 (ipykernel)",
   "language": "python",
   "name": "python3"
  },
  "language_info": {
   "codemirror_mode": {
    "name": "ipython",
    "version": 3
   },
   "file_extension": ".py",
   "mimetype": "text/x-python",
   "name": "python",
   "nbconvert_exporter": "python",
   "pygments_lexer": "ipython3",
   "version": "3.12.1"
  }
 },
 "nbformat": 4,
 "nbformat_minor": 5
}
